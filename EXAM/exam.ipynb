{
 "cells": [
  {
   "cell_type": "code",
   "execution_count": 1,
   "id": "436e8b46-c934-4d74-8f00-7b180467897a",
   "metadata": {},
   "outputs": [],
   "source": [
    "import numpy as np\n"
   ]
  },
  {
   "cell_type": "code",
   "execution_count": 2,
   "id": "396a2a4d-6550-4157-b9e3-b2a667411ef5",
   "metadata": {},
   "outputs": [
    {
     "name": "stdout",
     "output_type": "stream",
     "text": [
      "[[1.  0.2 0.5]\n",
      " [0.2 1.  0.8]\n",
      " [0.5 0.8 1. ]]\n"
     ]
    }
   ],
   "source": [
    "x=np.array([[1,0.2,0.5],[0.2,1,0.8],[0.5,0.8,1]])  #contruct matrix(a)\n",
    "print(x)"
   ]
  },
  {
   "cell_type": "code",
   "execution_count": 3,
   "id": "bb3c7058-773b-457d-aacd-237396872749",
   "metadata": {},
   "outputs": [
    {
     "name": "stdout",
     "output_type": "stream",
     "text": [
      "[[1.  0.2 0.5]\n",
      " [0.2 1.  0.8]\n",
      " [0.5 0.8 1. ]]\n"
     ]
    }
   ],
   "source": [
    "xt=np.transpose(x) # finding transpose(i)\n",
    "print(xt)"
   ]
  },
  {
   "cell_type": "code",
   "execution_count": 7,
   "id": "48622a13-5351-4a9b-a669-5ede727adbfb",
   "metadata": {},
   "outputs": [
    {
     "name": "stdout",
     "output_type": "stream",
     "text": [
      "[[1.  0.2 0.5]\n",
      " [0.2 1.  0.8]\n",
      " [0.5 0.8 1. ]]\n"
     ]
    }
   ],
   "source": [
    "det_x=np.linalg.det(x) # finding the determinant(ii)\n",
    "print(x)"
   ]
  },
  {
   "cell_type": "code",
   "execution_count": 8,
   "id": "73670e27-ddbe-440b-8c07-9f702b8d566b",
   "metadata": {},
   "outputs": [
    {
     "name": "stdout",
     "output_type": "stream",
     "text": [
      "EigResult(eigenvalues=array([2.04100779, 0.82188052, 0.13711169]), eigenvectors=array([[-0.43721717, -0.85359707, -0.28321933],\n",
      "       [-0.59931898,  0.51133314, -0.61591816],\n",
      "       [-0.67056536,  0.09955128,  0.73514055]]))\n"
     ]
    }
   ],
   "source": [
    "eigen_v=np.linalg.eig(x) # decomposition of the matrix using eigen method(iii)\n",
    "print(eigen_v)"
   ]
  },
  {
   "cell_type": "code",
   "execution_count": 11,
   "id": "ae59e0e1-1aef-4832-ba68-ae0361275815",
   "metadata": {},
   "outputs": [
    {
     "name": "stdout",
     "output_type": "stream",
     "text": [
      "[[ 1.56521739  0.86956522 -1.47826087]\n",
      " [ 0.86956522  3.26086957 -3.04347826]\n",
      " [-1.47826087 -3.04347826  4.17391304]]\n"
     ]
    }
   ],
   "source": [
    "trans=np.linalg.inv(x) # tranform of matrix(iv)\n",
    "print(trans)"
   ]
  },
  {
   "cell_type": "markdown",
   "id": "89610e76-4c6b-4f97-a19c-f68ebcc8373d",
   "metadata": {},
   "source": [
    "## question2"
   ]
  },
  {
   "cell_type": "code",
   "execution_count": 12,
   "id": "9d56a1a2-ffba-4012-9bef-197bb08f2806",
   "metadata": {},
   "outputs": [],
   "source": [
    "from numpy import random"
   ]
  },
  {
   "cell_type": "code",
   "execution_count": 13,
   "id": "37bfdc80-084c-4711-83f0-32193981672f",
   "metadata": {},
   "outputs": [],
   "source": [
    "import seaborn as sns"
   ]
  },
  {
   "cell_type": "code",
   "execution_count": 14,
   "id": "60276eb1-7078-457b-a971-8a6e4a9902e7",
   "metadata": {},
   "outputs": [],
   "source": [
    "import matplotlib.pyplot as plt"
   ]
  },
  {
   "cell_type": "code",
   "execution_count": 15,
   "id": "ba5385d9-178c-4c24-8b98-0b98afdc7808",
   "metadata": {},
   "outputs": [
    {
     "name": "stdout",
     "output_type": "stream",
     "text": [
      "[1 3 0 0 3 2 0 0 1 2 0 1 4 1 1 2 0 1 1 1 2 2 1 1 3 0 1 1 2 0 1 0 1 0 1 1 3\n",
      " 0 0 0 3 0 1 1 1 1 1 1 0 1 0 0 1 0 2 1 1 1 0 1 2 2 1 1 0 0 0 2 1 1 1 1 0 0\n",
      " 1 2 0 0 0 2 0 0 0 2 0 3 1 1 0 0 0 2 1 1 1 1 0 0 1 1 0 2 1 0 0 0 3 0 0 0 1\n",
      " 2 0 0 3 0 1 0 0 1 1 0 0 3 0 1 0 1 2 1 0 1 2 1 2 0 2 1 2 1 0 0 1 0 0 0 2 1\n",
      " 3 3 0 0 1 3 0 1 1 2 0 0 1 2 1 0 0 1 2 1 0 1 0 1 0 1 1 0 0 0 1 1 2 2 2 0 0\n",
      " 4 0 0 0 1 0 1 4 1 1 2 0 1 1 0 1 1 0 2 1 1 2 1 1 1 2 1 0 2 0 0 0 1 2 1 1 0\n",
      " 1 1 1 0 1 0 0 2 2 2 1 1 1 0 2 2 0 2 1 2 0 0 3 1 2 1 1 0 2 1 1 1 1 1 0 1 1\n",
      " 3 1 2 0 1 1 1 0 0 1 1 2 1 1 1 1 3 0 2 1 1 1 2 1 2 0 1 0 0 0 0 1 1 2 0 1 0\n",
      " 2 4 0 0 2 0 0 0 0 3 1 0 0 1 3 0 1 1 0 0 1 1 0 2 1 3 0 0 2 3 0 1 0 2 0 1 2\n",
      " 1 0 1 1 2 2 0 2 1 0 2 1 2 1 3 1 1 2 0 0 0 0 1 1 2 0 1 0 1 0 1 1 1 1 3 0 0\n",
      " 1 1 1 0 1 4 1 1 1 0 0 3 2 0 1 0 1 0 0 0 1 1 1 0 3 0 3 1 2 2 1 0 0 1 0 0 1\n",
      " 1 1 1 2 2 1 1 0 1 0 1 0 3 2 3 0 3 1 2 0 2 2 2 2 1 0 2 2 1 2 0 2 1 0 1 0 2\n",
      " 1 0 0 1 2 3 2 0 1 2 1 0 0 0 0 0 0 1 0 1 0 0 2 0 1 0 0 0 0 0 0 0 1 0 0 1 2\n",
      " 2 3 1 1 2 0 1 1 0 2 1 1 0 1 0 2 1 1 1 3 2 1 1 0 0 2 1 1 1 0 2 2 1 1 4 1 0\n",
      " 1 0 0 1 3 4 2 0 1 1 2 1 0 1 2 2 0 0 0 0 0 1 2 1 2 1 1 0 1 1 3 0 2 0 1 1 0\n",
      " 0 0 3 2 0 1 0 2 0 0 1 2 0 2 0 2 2 1 1 1 2 2 2 1 1 0 2 3 0 0 2 1 0 0 0 0 2\n",
      " 0 1 1 1 0 1 2 2 0 1 1 3 1 1 0 0 0 0 1 1 2 4 1 2 1 0 0 1 0 2 0 2 2 2 0 1 1\n",
      " 0 2 3 0 1 2 0 1 2 0 2 2 2 2 0 0 3 1 0 1 0 0 0 1 0 2 4 1 2 0 1 0 1 0 2 2 0\n",
      " 0 2 1 0 1 3 0 2 0 0 1 2 1 1 0 0 1 0 0 0 1 1 0 2 1 2 0 1 0 0 0 1 0 0 1 1 1\n",
      " 0 1 2 0 1 0 0 0 3 0 1 3 1 1 0 0 0 1 0 3 0 1 1 2 0 2 1 2 1 0 0 1 1 1 0 1 1\n",
      " 2 1 3 2 1 2 0 0 1 1 2 2 0 1 1 1 1 1 1 0 2 1 1 0 1 1 0 1 2 0 0 2 1 0 2 2 1\n",
      " 0 0 1 1 2 1 2 1 0 1 2 1 3 2 1 4 3 3 0 1 1 1 0 1 1 1 0 0 0 1 0 1 1 1 0 1 2\n",
      " 2 0 0 2 0 0 1 0 0 0 0 0 0 1 1 0 3 1 0 0 2 0 1 0 1 0 1 1 1 1 0 2 2 2 1 3 1\n",
      " 1 1 0 1 0 1 2 1 0 1 0 0 0 0 2 0 0 1 1 0 1 0 0 1 0 1 0 0 3 0 0 2 3 2 1 2 0\n",
      " 0 0 2 0 1 0 2 0 4 4 2 1 0 4 2 1 1 3 1 0 0 1 1 0 2 2 0 2 2 1 1 0 0 0 0 1 1\n",
      " 2 1 1 0 2 1 0 0 1 0 1 0 0 1 1 2 2 1 0 2 0 0 2 0 0 3 1 1 2 1 1 0 0 3 1 2 2\n",
      " 1 3 0 0 1 5 0 0 3 0 0 0 1 0 1 1 2 2 3 0 0 2 0 0 0 1 2 0 0 3 5 1 0 1 0 1 0\n",
      " 1]\n"
     ]
    }
   ],
   "source": [
    "m=random.poisson(size=(1000)) #generation of matrix(i) \n",
    "print(m)"
   ]
  },
  {
   "cell_type": "code",
   "execution_count": 17,
   "id": "dcf41fd5-dbd4-4e98-895e-952ba5e98b24",
   "metadata": {},
   "outputs": [
    {
     "name": "stdout",
     "output_type": "stream",
     "text": [
      "0.97\n"
     ]
    }
   ],
   "source": [
    "mn=m.mean()\n",
    "print(mn)"
   ]
  },
  {
   "cell_type": "code",
   "execution_count": 29,
   "id": "72bb16af-1df0-49ee-8e4e-3d95be6c32fd",
   "metadata": {},
   "outputs": [
    {
     "name": "stdout",
     "output_type": "stream",
     "text": [
      "0.9311\n"
     ]
    }
   ],
   "source": [
    "variance=m.var()\n",
    "print(variance)"
   ]
  },
  {
   "cell_type": "code",
   "execution_count": 28,
   "id": "38bebddb-09ee-416f-91e3-e7545ba28754",
   "metadata": {},
   "outputs": [
    {
     "name": "stderr",
     "output_type": "stream",
     "text": [
      "C:\\Users\\Admin\\AppData\\Local\\Programs\\Python\\Python311\\Lib\\site-packages\\seaborn\\_oldcore.py:1498: FutureWarning: is_categorical_dtype is deprecated and will be removed in a future version. Use isinstance(dtype, CategoricalDtype) instead\n",
      "  if pd.api.types.is_categorical_dtype(vector):\n",
      "C:\\Users\\Admin\\AppData\\Local\\Programs\\Python\\Python311\\Lib\\site-packages\\seaborn\\_oldcore.py:1119: FutureWarning: use_inf_as_na option is deprecated and will be removed in a future version. Convert inf values to NaN before operating instead.\n",
      "  with pd.option_context('mode.use_inf_as_na', True):\n"
     ]
    },
    {
     "data": {
      "image/png": "[encoded data removed]",
      "text/plain": [
       "<Figure size 640x480 with 1 Axes>"
      ]
     },
     "metadata": {},
     "output_type": "display_data"
    }
   ],
   "source": [
    "data=random.poisson(lam=5,size=1000)\n",
    "sns.histplot(data,kde=False,color=\"green\")\n",
    "plt.xlabel(\"Days\")\n",
    "plt.ylabel(\"Income gained\")\n",
    "plt.title(\"Visaulisation of poisson distribution\")\n",
    "plt.show()"
   ]
  },
  {
   "cell_type": "code",
   "execution_count": null,
   "id": "a4a261e7-384b-4463-89a9-11dada2a5423",
   "metadata": {},
   "outputs": [],
   "source": []
  }
 ],
 "metadata": {
  "kernelspec": {
   "display_name": "Python 3 (ipykernel)",
   "language": "python",
   "name": "python3"
  },
  "language_info": {
   "codemirror_mode": {
    "name": "ipython",
    "version": 3
   },
   "file_extension": ".py",
   "mimetype": "text/x-python",
   "name": "python",
   "nbconvert_exporter": "python",
   "pygments_lexer": "ipython3",
   "version": "3.11.4"
  }
 },
 "nbformat": 4,
 "nbformat_minor": 5
}
